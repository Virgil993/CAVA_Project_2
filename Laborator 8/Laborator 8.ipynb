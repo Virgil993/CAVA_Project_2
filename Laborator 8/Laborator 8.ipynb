{
 "cells": [
  {
   "cell_type": "markdown",
   "id": "cef2cf12",
   "metadata": {},
   "source": [
    "## Clasificarea imaginilor folosind descriptori"
   ]
  },
  {
   "cell_type": "code",
   "execution_count": 2,
   "id": "2cd72e36",
   "metadata": {},
   "outputs": [],
   "source": [
    "import glob\n",
    "import cv2 as cv\n",
    "import numpy as np\n",
    "from skimage.feature import hog\n",
    "from sklearn.svm import SVC, LinearSVC\n",
    "from sklearn.neighbors import KNeighborsClassifier\n",
    "from sklearn.metrics import confusion_matrix,accuracy_score\n",
    "from copy import deepcopy"
   ]
  },
  {
   "cell_type": "markdown",
   "id": "6911d785",
   "metadata": {},
   "source": [
    "### Incarcarea imaginilor de antrenare"
   ]
  },
  {
   "cell_type": "code",
   "execution_count": 3,
   "id": "64a37cb9",
   "metadata": {},
   "outputs": [
    {
     "name": "stdout",
     "output_type": "stream",
     "text": [
      "['train\\\\soccer_ball', 'train\\\\yin_yang']\n"
     ]
    }
   ],
   "source": [
    "path='train\\\\'\n",
    "folders=glob.glob(path+'*')\n",
    "print(folders)"
   ]
  },
  {
   "cell_type": "code",
   "execution_count": 4,
   "id": "89b5f814",
   "metadata": {},
   "outputs": [],
   "source": [
    "train_images=[]\n",
    "train_labels=[]"
   ]
  },
  {
   "cell_type": "code",
   "execution_count": 5,
   "id": "96869efe",
   "metadata": {},
   "outputs": [
    {
     "name": "stdout",
     "output_type": "stream",
     "text": [
      "soccer_ball\n",
      "yin_yang\n"
     ]
    }
   ],
   "source": [
    "for f in folders:\n",
    "    clas=f.replace(path,'')\n",
    "    print(clas)\n",
    "    files=glob.glob(f+'\\\\*jpg')\n",
    "    for i in files:\n",
    "        image = cv.imread (i)\n",
    "        image = cv.resize(image, (300, 300),interpolation = cv.INTER_LINEAR)\n",
    "        img = np.asarray(image)\n",
    "        train_images.append(img)\n",
    "        train_labels.append(clas)\n",
    "train_images=np.array(train_images)\n",
    "train_labels=np.array(train_labels)"
   ]
  },
  {
   "cell_type": "code",
   "execution_count": 6,
   "id": "c975c8e1",
   "metadata": {},
   "outputs": [
    {
     "name": "stdout",
     "output_type": "stream",
     "text": [
      "(94, 300, 300, 3)\n",
      "(94,)\n"
     ]
    }
   ],
   "source": [
    "print(train_images.shape)\n",
    "print(train_labels.shape)"
   ]
  },
  {
   "cell_type": "markdown",
   "id": "7170268c",
   "metadata": {},
   "source": [
    "### Incarcarea imaginilor de testare"
   ]
  },
  {
   "cell_type": "code",
   "execution_count": 7,
   "id": "313ce5ab",
   "metadata": {},
   "outputs": [
    {
     "name": "stdout",
     "output_type": "stream",
     "text": [
      "['test\\\\soccer_ball', 'test\\\\yin_yang']\n"
     ]
    }
   ],
   "source": [
    "path='test\\\\'\n",
    "folders=glob.glob(path+'*')\n",
    "print(folders)"
   ]
  },
  {
   "cell_type": "code",
   "execution_count": 8,
   "id": "fb913eda",
   "metadata": {},
   "outputs": [],
   "source": [
    "test_images=[]\n",
    "test_labels=[]"
   ]
  },
  {
   "cell_type": "code",
   "execution_count": 9,
   "id": "207e18e5",
   "metadata": {},
   "outputs": [
    {
     "name": "stdout",
     "output_type": "stream",
     "text": [
      "soccer_ball\n",
      "yin_yang\n"
     ]
    }
   ],
   "source": [
    "for f in folders:\n",
    "    clas=f.replace(path,'')\n",
    "    print(clas)\n",
    "    files=glob.glob(f+'\\\\*jpg')\n",
    "    for i in files:\n",
    "        image = cv.imread (i)\n",
    "        image = cv.resize(image, (300, 300),interpolation = cv.INTER_LINEAR)\n",
    "        img = np.asarray(image)\n",
    "        test_images.append(img)\n",
    "        test_labels.append(clas)\n",
    "test_images=np.array(test_images)\n",
    "test_labels=np.array(test_labels)"
   ]
  },
  {
   "cell_type": "code",
   "execution_count": 10,
   "id": "a94595a3",
   "metadata": {},
   "outputs": [
    {
     "name": "stdout",
     "output_type": "stream",
     "text": [
      "(30, 300, 300, 3)\n",
      "(30,)\n"
     ]
    }
   ],
   "source": [
    "print(test_images.shape)\n",
    "print(test_labels.shape)"
   ]
  },
  {
   "cell_type": "markdown",
   "id": "b5f4128d",
   "metadata": {},
   "source": [
    "### Diferite tipuri de descriptori"
   ]
  },
  {
   "cell_type": "code",
   "execution_count": 11,
   "id": "30b5b6e9",
   "metadata": {},
   "outputs": [],
   "source": [
    "def get_flatten_images(images):\n",
    "    images_flatten=[]\n",
    "    for img in images:\n",
    "        img = cv.cvtColor(img, cv.COLOR_BGR2GRAY)\n",
    "        img=img.flatten()\n",
    "        images_flatten.append(img)\n",
    "    images_flatten = np.array(images_flatten)\n",
    "    return images_flatten"
   ]
  },
  {
   "cell_type": "code",
   "execution_count": 12,
   "id": "880e5051",
   "metadata": {},
   "outputs": [],
   "source": [
    "def get_gray_histogram(images):\n",
    "    gray_histograms = []\n",
    "    for img in images:\n",
    "        img = cv.cvtColor(img, cv.COLOR_BGR2GRAY)\n",
    "        hist = cv.calcHist([img], [0], None, [256], [0, 256])\n",
    "        gray_histograms.append(hist.flatten())\n",
    "    gray_histograms = np.array(gray_histograms)\n",
    "    return gray_histograms"
   ]
  },
  {
   "cell_type": "code",
   "execution_count": 13,
   "id": "440eb474",
   "metadata": {},
   "outputs": [],
   "source": [
    "def get_rgb_histogram(images):\n",
    "    color_histograms = []\n",
    "    for img in images:\n",
    "        hist = cv.calcHist([img], [0, 1, 2],None, [8, 8, 8], [0, 256, 0, 256, 0, 256])\n",
    "        color_histograms.append(hist.flatten())\n",
    "    color_histograms = np.array(color_histograms)\n",
    "    return color_histograms"
   ]
  },
  {
   "cell_type": "code",
   "execution_count": 14,
   "id": "7c34f104",
   "metadata": {},
   "outputs": [],
   "source": [
    "def get_hog_descriptors(images):\n",
    "    descriptors = []\n",
    "    for img in images:\n",
    "        img = cv.cvtColor(img, cv.COLOR_BGR2GRAY)\n",
    "        features = hog(img, pixels_per_cell=(6, 6),orientations=8, cells_per_block=(2, 2), block_norm='L2-Hys', feature_vector=True)\n",
    "        descriptors.append(features)\n",
    "    descriptors = np.array(descriptors)\n",
    "    return descriptors"
   ]
  },
  {
   "cell_type": "markdown",
   "id": "96bcc185",
   "metadata": {},
   "source": [
    "### Calcularea descriptorilor pentru imaginile de antrenare si testare"
   ]
  },
  {
   "cell_type": "code",
   "execution_count": 15,
   "id": "6833614c",
   "metadata": {},
   "outputs": [],
   "source": [
    "train_images_flatten=get_flatten_images(train_images)\n",
    "test_images_flatten=get_flatten_images(test_images)"
   ]
  },
  {
   "cell_type": "code",
   "execution_count": 16,
   "id": "2eaae100",
   "metadata": {},
   "outputs": [],
   "source": [
    "train_images_gray_hist=get_gray_histogram(train_images)\n",
    "test_images_gray_hist=get_gray_histogram(test_images)"
   ]
  },
  {
   "cell_type": "code",
   "execution_count": 17,
   "id": "1c4dbbc7",
   "metadata": {},
   "outputs": [],
   "source": [
    "train_images_color_hist=get_rgb_histogram(train_images)\n",
    "test_images_color_hist=get_rgb_histogram(test_images)"
   ]
  },
  {
   "cell_type": "code",
   "execution_count": 18,
   "id": "f9609822",
   "metadata": {},
   "outputs": [],
   "source": [
    "train_images_hog=get_hog_descriptors(train_images)\n",
    "test_images_hog=get_hog_descriptors(test_images)"
   ]
  },
  {
   "cell_type": "markdown",
   "id": "d1e36d83",
   "metadata": {},
   "source": [
    "### Antrenarea unui SVM liniar cu diferiti descriptori"
   ]
  },
  {
   "cell_type": "code",
   "execution_count": 19,
   "id": "61929e7b",
   "metadata": {},
   "outputs": [
    {
     "name": "stdout",
     "output_type": "stream",
     "text": [
      "Antrenam un clasificator pentru c=0.000010\n",
      "0.6702127659574468\n",
      "Antrenam un clasificator pentru c=0.000100\n",
      "0.9468085106382979\n",
      "Antrenam un clasificator pentru c=0.001000\n",
      "1.0\n",
      "Antrenam un clasificator pentru c=0.010000\n",
      "1.0\n",
      "Antrenam un clasificator pentru c=0.100000\n",
      "1.0\n",
      "Antrenam un clasificator pentru c=1.000000\n",
      "1.0\n",
      "Performanta clasificatorului optim pt c = 0.001000\n"
     ]
    }
   ],
   "source": [
    "best_accuracy = 0\n",
    "best_c = 0\n",
    "best_model2 = None\n",
    "Cs = [10 ** -5, 10 ** -4,  10 ** -3,  10 ** -2, 10 ** -1, 10 ** 0]\n",
    "for c in Cs:\n",
    "    print('Antrenam un clasificator pentru c=%f' % c)\n",
    "    model = LinearSVC(C=c)\n",
    "    model.fit(train_images_hog, train_labels)\n",
    "    acc = model.score(train_images_hog , train_labels)\n",
    "    print(acc)\n",
    "    if acc > best_accuracy:\n",
    "        best_accuracy = acc\n",
    "        best_c = c\n",
    "        best_model2 = deepcopy(model)\n",
    "\n",
    "print('Performanta clasificatorului optim pt c = %f' % best_c)"
   ]
  },
  {
   "cell_type": "code",
   "execution_count": 21,
   "id": "0e02def9",
   "metadata": {},
   "outputs": [
    {
     "name": "stdout",
     "output_type": "stream",
     "text": [
      "0.8333333333333334\n"
     ]
    }
   ],
   "source": [
    "predicted_labels= best_model2.predict(test_images_hog)\n",
    "print(accuracy_score(test_labels,predicted_labels))"
   ]
  },
  {
   "cell_type": "code",
   "execution_count": null,
   "id": "81ad39ab",
   "metadata": {},
   "outputs": [],
   "source": []
  }
 ],
 "metadata": {
  "kernelspec": {
   "display_name": "CAVA-gr1",
   "language": "python",
   "name": "python3"
  },
  "language_info": {
   "codemirror_mode": {
    "name": "ipython",
    "version": 3
   },
   "file_extension": ".py",
   "mimetype": "text/x-python",
   "name": "python",
   "nbconvert_exporter": "python",
   "pygments_lexer": "ipython3",
   "version": "3.9.13 (main, Aug 25 2022, 23:51:50) [MSC v.1916 64 bit (AMD64)]"
  },
  "vscode": {
   "interpreter": {
    "hash": "c2a6ae6d1a86b48c312a01f87ba077caed2ea7bedd1a13a95193162375fee416"
   }
  }
 },
 "nbformat": 4,
 "nbformat_minor": 5
}
